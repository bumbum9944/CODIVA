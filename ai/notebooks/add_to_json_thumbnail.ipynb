{
 "metadata": {
  "language_info": {
   "codemirror_mode": {
    "name": "ipython",
    "version": 3
   },
   "file_extension": ".py",
   "mimetype": "text/x-python",
   "name": "python",
   "nbconvert_exporter": "python",
   "pygments_lexer": "ipython3",
   "version": "3.7.10"
  },
  "orig_nbformat": 2,
  "kernelspec": {
   "name": "python3710jvsc74a57bd0849cf7b45cce3c606464bd7fa4852a497708961d97ba3d452ed2991cc9a49805",
   "display_name": "Python 3.7  ('aivenv': conda)"
  }
 },
 "nbformat": 4,
 "nbformat_minor": 2,
 "cells": [
  {
   "cell_type": "code",
   "execution_count": 10,
   "metadata": {},
   "outputs": [],
   "source": [
    "# import image utilities\n",
    "import urllib.request\n",
    "from PIL import Image\n",
    "import numpy as np\n",
    "import cv2"
   ]
  },
  {
   "cell_type": "code",
   "execution_count": 11,
   "metadata": {},
   "outputs": [],
   "source": [
    "def resize_image(image):\n",
    "    (h, w) = image.shape[:2]\n",
    "\n",
    "    if w > h:\n",
    "        ratio = 299.0 / w\n",
    "        x = 299\n",
    "        y = int(h * ratio)\n",
    "        dim = (x, y)\n",
    "    else:\n",
    "        ratio = 299.0 / h\n",
    "        y = 299\n",
    "        x = int(w * ratio)\n",
    "        dim = (x, y)\n",
    "\n",
    "    # perform the actual resizing of the image\n",
    "    resized = cv2.resize(image, dim, interpolation=cv2.INTER_LINEAR)\n",
    "\n",
    "    if resized.shape[0] > resized.shape[1]:\n",
    "        # numpy로 검은색 배경을 생성\n",
    "        background = np.zeros((resized.shape[0], resized.shape[0], 3), dtype=np.uint8)\n",
    "        # 이미지를 가운데로 겹치도록 설정\n",
    "        x_offset = y_offset = resized.shape[0] // 2 - (resized.shape[1] // 2)\n",
    "        # 해당 위치에 이미지를 겹침\n",
    "        background[:, x_offset : x_offset + resized.shape[1]] = resized\n",
    "    else:\n",
    "        # 가로가 더 길 경우\n",
    "        background = np.zeros((resized.shape[1], resized.shape[1], 3), dtype=np.uint8)\n",
    "        x_offset = y_offset = resized.shape[1] // 2 - (resized.shape[0] // 2)\n",
    "        background[y_offset : y_offset + resized.shape[0], :] = resized\n",
    "    return background"
   ]
  },
  {
   "cell_type": "code",
   "execution_count": 12,
   "metadata": {},
   "outputs": [
    {
     "output_type": "error",
     "ename": "AttributeError",
     "evalue": "'numpy.ndarray' object has no attribute 'save'",
     "traceback": [
      "\u001b[0;31m---------------------------------------------------------------------------\u001b[0m",
      "\u001b[0;31mAttributeError\u001b[0m                            Traceback (most recent call last)",
      "\u001b[0;32m<ipython-input-12-044a4a0053ca>\u001b[0m in \u001b[0;36m<module>\u001b[0;34m\u001b[0m\n\u001b[1;32m     13\u001b[0m     \u001b[0mimg\u001b[0m \u001b[0;34m=\u001b[0m \u001b[0mnp\u001b[0m\u001b[0;34m.\u001b[0m\u001b[0marray\u001b[0m\u001b[0;34m(\u001b[0m\u001b[0mimg\u001b[0m\u001b[0;34m)\u001b[0m\u001b[0;34m\u001b[0m\u001b[0;34m\u001b[0m\u001b[0m\n\u001b[1;32m     14\u001b[0m     \u001b[0mimg\u001b[0m \u001b[0;34m=\u001b[0m \u001b[0mresize_image\u001b[0m\u001b[0;34m(\u001b[0m\u001b[0mimg\u001b[0m\u001b[0;34m)\u001b[0m\u001b[0;34m\u001b[0m\u001b[0;34m\u001b[0m\u001b[0m\n\u001b[0;32m---> 15\u001b[0;31m     \u001b[0mimg\u001b[0m\u001b[0;34m.\u001b[0m\u001b[0msave\u001b[0m\u001b[0;34m(\u001b[0m\u001b[0;34m\"/home/azure/ai/thumbnail\"\u001b[0m\u001b[0;34m,\u001b[0m \u001b[0;34mf\"{name}\"\u001b[0m\u001b[0;34m)\u001b[0m\u001b[0;34m\u001b[0m\u001b[0;34m\u001b[0m\u001b[0m\n\u001b[0m",
      "\u001b[0;31mAttributeError\u001b[0m: 'numpy.ndarray' object has no attribute 'save'"
     ]
    }
   ],
   "source": [
    "f = open(\"/home/azure/ai/s3_file.txt\", \"r\")\n",
    "names = f.readlines()\n",
    "\n",
    "for name in names:\n",
    "    url = f\"https://codiba.s3.us-east-2.amazonaws.com/{name}\"\n",
    "    img_name, img_format = name.split(\"/\")[1].split(\".\")\n",
    "    img_format = img_format.replace(\"\\n\", \"\")\n",
    "    if img_format == \"png\":\n",
    "        img = Image.open(urllib.request.urlopen(url)).convert(\"RGB\")\n",
    "    else:\n",
    "        img = Image.open(urllib.request.urlopen(url))\n",
    "\n",
    "    img = np.array(img)\n",
    "    img = resize_image(img)\n",
    "    img.save(\"/home/azure/ai/thumbnail\", f\"{name}\")"
   ]
  },
  {
   "cell_type": "code",
   "execution_count": null,
   "metadata": {},
   "outputs": [],
   "source": []
  }
 ]
}